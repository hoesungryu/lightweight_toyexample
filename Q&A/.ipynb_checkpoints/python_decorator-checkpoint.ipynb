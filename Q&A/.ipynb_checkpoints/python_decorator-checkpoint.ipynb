{
 "cells": [
  {
   "cell_type": "markdown",
   "metadata": {},
   "source": [
    "# Decorator"
   ]
  },
  {
   "cell_type": "markdown",
   "metadata": {},
   "source": [
    "## example 1"
   ]
  },
  {
   "cell_type": "code",
   "execution_count": 1,
   "metadata": {
    "ExecuteTime": {
     "end_time": "2021-02-03T10:56:35.478746Z",
     "start_time": "2021-02-03T10:56:35.473607Z"
    }
   },
   "outputs": [
    {
     "name": "stdout",
     "output_type": "stream",
     "text": [
      "Something is happening before the inner function is called.\n",
      "Something is happening after the inner function is called.\n"
     ]
    }
   ],
   "source": [
    "def generate_power(exponent):\n",
    "    def wrapper(function): # function <-- raise_two \n",
    "        print(\"Something is happening before the inner function is called.\")\n",
    "        \n",
    "        def inner(*args):\n",
    "            result = function(*args) # raise_two 값이 result 가 됨 \n",
    "            return exponent**result  # expoenet <-- decorator 값 \n",
    "        \n",
    "        print(\"Something is happening after the inner function is called.\")\n",
    "        return inner \n",
    "        \n",
    "    return wrapper\n",
    "\n",
    "\n",
    "\n",
    "@generate_power(2)\n",
    "def raise_two(n):\n",
    "    return n**3"
   ]
  },
  {
   "cell_type": "code",
   "execution_count": 2,
   "metadata": {
    "ExecuteTime": {
     "end_time": "2021-02-03T10:56:35.496035Z",
     "start_time": "2021-02-03T10:56:35.483461Z"
    }
   },
   "outputs": [
    {
     "data": {
      "text/plain": [
       "True"
      ]
     },
     "execution_count": 2,
     "metadata": {},
     "output_type": "execute_result"
    }
   ],
   "source": [
    "raise_two(3) == 2**(3**3)"
   ]
  },
  {
   "cell_type": "markdown",
   "metadata": {},
   "source": [
    "## example 2"
   ]
  },
  {
   "cell_type": "code",
   "execution_count": 3,
   "metadata": {
    "ExecuteTime": {
     "end_time": "2021-02-03T10:56:35.508043Z",
     "start_time": "2021-02-03T10:56:35.501956Z"
    }
   },
   "outputs": [
    {
     "name": "stdout",
     "output_type": "stream",
     "text": [
      "Something is happening before the inner function is called.\n",
      "Something is happening after the inner function is called.\n"
     ]
    }
   ],
   "source": [
    "def generate_power():\n",
    "    exponent = 2\n",
    "    def wrapper(function): # function <-- raise_two \n",
    "        print(\"Something is happening before the inner function is called.\")\n",
    "        \n",
    "        def inner(t):\n",
    "            result = function(t) # raise_two 값이 result 가 됨 \n",
    "            return exponent**result  # expoenet <-- decorator 값 \n",
    "        \n",
    "        print(\"Something is happening after the inner function is called.\")\n",
    "        return inner \n",
    "        \n",
    "    return wrapper\n",
    "\n",
    "\n",
    "\n",
    "@generate_power()\n",
    "def raise_two(n):\n",
    "    return n**3"
   ]
  },
  {
   "cell_type": "code",
   "execution_count": 4,
   "metadata": {
    "ExecuteTime": {
     "end_time": "2021-02-03T10:56:35.515692Z",
     "start_time": "2021-02-03T10:56:35.510814Z"
    }
   },
   "outputs": [
    {
     "data": {
      "text/plain": [
       "True"
      ]
     },
     "execution_count": 4,
     "metadata": {},
     "output_type": "execute_result"
    }
   ],
   "source": [
    "raise_two(3) == 2**(3**3)"
   ]
  }
 ],
 "metadata": {
  "kernelspec": {
   "display_name": "Python 3",
   "language": "python",
   "name": "python3"
  },
  "language_info": {
   "codemirror_mode": {
    "name": "ipython",
    "version": 3
   },
   "file_extension": ".py",
   "mimetype": "text/x-python",
   "name": "python",
   "nbconvert_exporter": "python",
   "pygments_lexer": "ipython3",
   "version": "3.7.0"
  },
  "toc": {
   "base_numbering": 1,
   "nav_menu": {},
   "number_sections": true,
   "sideBar": true,
   "skip_h1_title": true,
   "title_cell": "Table of Contents",
   "title_sidebar": "Contents",
   "toc_cell": false,
   "toc_position": {},
   "toc_section_display": true,
   "toc_window_display": true
  },
  "varInspector": {
   "cols": {
    "lenName": 16,
    "lenType": 16,
    "lenVar": 40
   },
   "kernels_config": {
    "python": {
     "delete_cmd_postfix": "",
     "delete_cmd_prefix": "del ",
     "library": "var_list.py",
     "varRefreshCmd": "print(var_dic_list())"
    },
    "r": {
     "delete_cmd_postfix": ") ",
     "delete_cmd_prefix": "rm(",
     "library": "var_list.r",
     "varRefreshCmd": "cat(var_dic_list()) "
    }
   },
   "types_to_exclude": [
    "module",
    "function",
    "builtin_function_or_method",
    "instance",
    "_Feature"
   ],
   "window_display": false
  }
 },
 "nbformat": 4,
 "nbformat_minor": 4
}
