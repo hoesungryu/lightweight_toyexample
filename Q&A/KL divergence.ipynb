{
 "cells": [
  {
   "cell_type": "markdown",
   "metadata": {},
   "source": [
    "# Kullback-Liebler divergence"
   ]
  },
  {
   "cell_type": "markdown",
   "metadata": {},
   "source": [
    "## Definition\n",
    "\n",
    "두 확률 분포의 차이를 계산하는데 사용하는 함수 \n",
    "확률공간 $\\Omega$ 와 이산확률변수 $X =x_1, x_2, ... x_n$ 그리고 확률 P,Q 가 주어졌을떄 확률 분포의 차이를 계산 \n",
    "\n",
    "\n",
    "$$KL(p||g) = - \\Sigma{p_i}{log(q_i/p_i)}$$\n",
    "$$KL(p||g) = - \\Sigma{p_i}{log(p_i)}+ \\Sigma{p_i}{log(q_i)}$$\n",
    "$$KL(p||g) = Crossentropy +  Entropy $$\n",
    "\n"
   ]
  },
  {
   "cell_type": "code",
   "execution_count": 7,
   "metadata": {
    "ExecuteTime": {
     "end_time": "2021-02-02T04:35:54.963982Z",
     "start_time": "2021-02-02T04:35:54.959315Z"
    }
   },
   "outputs": [],
   "source": [
    "import numpy as np \n",
    "import matplotlib.pyplot as plt \n",
    "\n",
    "x = [0,1]\n",
    "p = [0.5, 0.5]\n",
    "q = [0.8, 0.2]"
   ]
  },
  {
   "cell_type": "code",
   "execution_count": 16,
   "metadata": {
    "ExecuteTime": {
     "end_time": "2021-02-02T04:41:31.170250Z",
     "start_time": "2021-02-02T04:41:30.961121Z"
    }
   },
   "outputs": [
    {
     "data": {
      "image/png": "[encoded data removed]",
      "text/plain": [
       "<Figure size 432x288 with 2 Axes>"
      ]
     },
     "metadata": {
      "needs_background": "light"
     },
     "output_type": "display_data"
    }
   ],
   "source": [
    "fig, (ax1, ax2) = plt.subplots(1, 2)\n",
    "fig.suptitle('Kullback-Liebler divergence')\n",
    "\n",
    "ax1.bar(x, p)\n",
    "ax1.set_title('Distribution Over P')\n",
    "ax2.bar(x, q)\n",
    "ax2.set_title('Distribution Over Q')\n",
    "plt.show()"
   ]
  },
  {
   "cell_type": "markdown",
   "metadata": {},
   "source": [
    "$$KL(p||g) = - \\Sigma{p_i}{log(p_i)}+ \\Sigma{p_i}{log(q_i)}$$"
   ]
  },
  {
   "cell_type": "code",
   "execution_count": 18,
   "metadata": {
    "ExecuteTime": {
     "end_time": "2021-02-02T04:43:47.477549Z",
     "start_time": "2021-02-02T04:43:47.472182Z"
    }
   },
   "outputs": [
    {
     "name": "stdout",
     "output_type": "stream",
     "text": [
      "-0.2231435513142097\n"
     ]
    }
   ],
   "source": [
    "KL =  - (p[0]*np.log(p[0])+p[1]*np.log(p[1]))+ (p[0]*np.log(q[0])+p[1]*np.log(q[1]))\n",
    "print(KL)"
   ]
  },
  {
   "cell_type": "markdown",
   "metadata": {},
   "source": [
    "## Other LOSS "
   ]
  },
  {
   "cell_type": "markdown",
   "metadata": {},
   "source": [
    "<img src='https://miro.medium.com/max/972/1*3MsFzl7zRZE3TihIC9JmaQ.png' width=60%>"
   ]
  }
 ],
 "metadata": {
  "kernelspec": {
   "display_name": "Python 3",
   "language": "python",
   "name": "python3"
  },
  "language_info": {
   "codemirror_mode": {
    "name": "ipython",
    "version": 3
   },
   "file_extension": ".py",
   "mimetype": "text/x-python",
   "name": "python",
   "nbconvert_exporter": "python",
   "pygments_lexer": "ipython3",
   "version": "3.7.0"
  },
  "toc": {
   "base_numbering": 1,
   "nav_menu": {},
   "number_sections": true,
   "sideBar": true,
   "skip_h1_title": false,
   "title_cell": "Table of Contents",
   "title_sidebar": "Contents",
   "toc_cell": false,
   "toc_position": {},
   "toc_section_display": true,
   "toc_window_display": false
  },
  "varInspector": {
   "cols": {
    "lenName": 16,
    "lenType": 16,
    "lenVar": 40
   },
   "kernels_config": {
    "python": {
     "delete_cmd_postfix": "",
     "delete_cmd_prefix": "del ",
     "library": "var_list.py",
     "varRefreshCmd": "print(var_dic_list())"
    },
    "r": {
     "delete_cmd_postfix": ") ",
     "delete_cmd_prefix": "rm(",
     "library": "var_list.r",
     "varRefreshCmd": "cat(var_dic_list()) "
    }
   },
   "types_to_exclude": [
    "module",
    "function",
    "builtin_function_or_method",
    "instance",
    "_Feature"
   ],
   "window_display": false
  }
 },
 "nbformat": 4,
 "nbformat_minor": 4
}
