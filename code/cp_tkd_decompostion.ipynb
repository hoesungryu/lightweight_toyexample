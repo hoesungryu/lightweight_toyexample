{
  "nbformat": 4,
  "nbformat_minor": 0,
  "metadata": {
    "kernelspec": {
      "display_name": "Python 3",
      "language": "python",
      "name": "python3"
    },
    "language_info": {
      "codemirror_mode": {
        "name": "ipython",
        "version": 3
      },
      "file_extension": ".py",
      "mimetype": "text/x-python",
      "name": "python",
      "nbconvert_exporter": "python",
      "pygments_lexer": "ipython3",
      "version": "3.7.0"
    },
    "toc": {
      "base_numbering": 1,
      "nav_menu": {},
      "number_sections": true,
      "sideBar": true,
      "skip_h1_title": false,
      "title_cell": "Table of Contents",
      "title_sidebar": "Contents",
      "toc_cell": false,
      "toc_position": {},
      "toc_section_display": true,
      "toc_window_display": false
    },
    "varInspector": {
      "cols": {
        "lenName": 16,
        "lenType": 16,
        "lenVar": 40
      },
      "kernels_config": {
        "python": {
          "delete_cmd_postfix": "",
          "delete_cmd_prefix": "del ",
          "library": "var_list.py",
          "varRefreshCmd": "print(var_dic_list())"
        },
        "r": {
          "delete_cmd_postfix": ") ",
          "delete_cmd_prefix": "rm(",
          "library": "var_list.r",
          "varRefreshCmd": "cat(var_dic_list()) "
        }
      },
      "types_to_exclude": [
        "module",
        "function",
        "builtin_function_or_method",
        "instance",
        "_Feature"
      ],
      "window_display": false
    },
    "colab": {
      "name": "9. lightweight-toy-15min.ipynb",
      "provenance": [],
      "collapsed_sections": []
    }
  },
  "cells": [
    {
      "cell_type": "markdown",
      "metadata": {
        "id": "5Sm0oL4jDi4f"
      },
      "source": [
        "# The CP & TKD Decomposition with tensorly\n",
        "\n",
        "이번 토이 코드에서는 `tensorfly`를 활용하여 CP & TKD Decomposition을 학습 해보겠습니다. \n",
        "\n",
        "## Remind \n",
        "<center><img src='https://www.researchgate.net/profile/Tai_Xiang_Jiang2/publication/321902217/figure/fig1/AS:613931840180273@1523384165986/The-illustration-of-a-Tucker-decomposition-and-b-CP-factorization-of-an-n-1-n-2-n.png' width=70%></center>\n"
      ]
    },
    {
      "cell_type": "markdown",
      "metadata": {
        "id": "p8wMulff7pDy"
      },
      "source": [
        "# Iinstall package \n",
        "```python\n",
        "!pip install tensorly -y\n",
        "```"
      ]
    },
    {
      "cell_type": "code",
      "metadata": {
        "colab": {
          "base_uri": "https://localhost:8080/"
        },
        "id": "_7ryZPlTC42x",
        "outputId": "0ae6f97c-7ec6-4948-d36e-9f9d3344ae5e"
      },
      "source": [
        "!pip install tensorly "
      ],
      "execution_count": null,
      "outputs": [
        {
          "output_type": "stream",
          "text": [
            "Requirement already satisfied: tensorly in /usr/local/lib/python3.6/dist-packages (0.5.1)\n",
            "Requirement already satisfied: scipy in /usr/local/lib/python3.6/dist-packages (from tensorly) (1.4.1)\n",
            "Requirement already satisfied: nose in /usr/local/lib/python3.6/dist-packages (from tensorly) (1.3.7)\n",
            "Requirement already satisfied: numpy in /usr/local/lib/python3.6/dist-packages (from tensorly) (1.19.5)\n"
          ],
          "name": "stdout"
        }
      ]
    },
    {
      "cell_type": "markdown",
      "metadata": {
        "id": "56Y5NjyHCvs1"
      },
      "source": [
        "# Import"
      ]
    },
    {
      "cell_type": "code",
      "metadata": {
        "id": "ePfNcsJYCrx7"
      },
      "source": [
        "import numpy as np\n",
        "import tensorly as tl\n",
        "from tensorly.random import check_random_state\n",
        "from tensorly.tucker_tensor import tucker_to_tensor\n",
        "import torch\n",
        "from torch.autograd import Variable\n",
        "from tensorly.decomposition import parafac, tucker\n",
        "import matplotlib.pyplot as plt\n",
        "import warnings\n",
        "\n",
        "warnings.filterwarnings(\"ignore\")\n",
        "\n",
        "# switch to the PyTorch backend\n",
        "tl.set_backend('pytorch')\n",
        "\n",
        "# fix \n",
        "np.random.seed(42)"
      ],
      "execution_count": null,
      "outputs": []
    },
    {
      "cell_type": "markdown",
      "metadata": {
        "id": "jLPdDSYGC_6u"
      },
      "source": [
        "# Setting"
      ]
    },
    {
      "cell_type": "code",
      "metadata": {
        "id": "asNl_OTkCsHR"
      },
      "source": [
        "# set value \n",
        "SEED = 42\n",
        "ITERATION = 10000\n",
        "LEARNING_RATE = 1e-4 \n",
        "RANK = 4"
      ],
      "execution_count": null,
      "outputs": []
    },
    {
      "cell_type": "markdown",
      "metadata": {
        "id": "6_XpZ0zVDJPr"
      },
      "source": [
        "# Define X"
      ]
    },
    {
      "cell_type": "code",
      "metadata": {
        "colab": {
          "base_uri": "https://localhost:8080/"
        },
        "id": "Iw_s11K9DHgm",
        "outputId": "6762494a-69ed-433f-cc1f-65b2372b58f9"
      },
      "source": [
        "# Define inital tensor(X)\n",
        "tensor = np.random.randint(1,5, size=(5, 5, 5)) # shape = [5, 5, 5]\n",
        "X = Variable(tl.tensor(tensor), requires_grad=True)\n",
        "print('Generate a 5 x 5 x 5 array of ints between 1 and 4 as below:')\n",
        "print('X:',X)"
      ],
      "execution_count": null,
      "outputs": [
        {
          "output_type": "stream",
          "text": [
            "Generate a 5 x 5 x 5 array of ints between 0 and 4\n",
            "X: tensor([[[2., 1., 3., 3., 1.],\n",
            "         [3., 3., 1., 4., 1.],\n",
            "         [4., 3., 3., 3., 2.],\n",
            "         [4., 2., 2., 1., 2.],\n",
            "         [1., 1., 2., 4., 4.]],\n",
            "\n",
            "        [[4., 4., 4., 2., 2.],\n",
            "         [3., 4., 2., 3., 4.],\n",
            "         [1., 3., 2., 1., 1.],\n",
            "         [1., 3., 2., 1., 4.],\n",
            "         [1., 1., 3., 3., 2.]],\n",
            "\n",
            "        [[4., 3., 1., 2., 1.],\n",
            "         [1., 3., 2., 4., 4.],\n",
            "         [3., 3., 2., 4., 4.],\n",
            "         [4., 1., 4., 1., 2.],\n",
            "         [1., 2., 4., 4., 2.]],\n",
            "\n",
            "        [[3., 2., 3., 1., 1.],\n",
            "         [1., 4., 1., 3., 1.],\n",
            "         [2., 2., 4., 2., 3.],\n",
            "         [1., 4., 1., 1., 3.],\n",
            "         [2., 2., 1., 4., 2.]],\n",
            "\n",
            "        [[4., 2., 4., 3., 4.],\n",
            "         [3., 3., 4., 3., 1.],\n",
            "         [3., 2., 4., 1., 4.],\n",
            "         [2., 2., 2., 3., 3.],\n",
            "         [4., 4., 1., 1., 4.]]], requires_grad=True)\n"
          ],
          "name": "stdout"
        }
      ]
    },
    {
      "cell_type": "markdown",
      "metadata": {
        "id": "7vpkVtXoDpg1"
      },
      "source": [
        "# Class\n",
        "\n",
        "\n"
      ]
    },
    {
      "cell_type": "code",
      "metadata": {
        "id": "bSQyr1AODawa"
      },
      "source": [
        "# class \n",
        "class Trainer:\n",
        "    def __init__(self, X, rank, epoch, lr,method):\n",
        "        self.method = method\n",
        "        self.X = X\n",
        "        self.rank = rank\n",
        "        self.lr = lr\n",
        "        self.decompo_method = {'cpd':parafac, 'tkd':tucker}\n",
        "        self.reconst_method = {'cpd':tl.kruskal_to_tensor, 'tkd':tl.tucker_to_tensor}\n",
        "        self.decompo_recon()\n",
        "\n",
        "    def decompo_recon(self):\n",
        "        '''\n",
        "        method: cpd(cp-decomposition) & tkd(tuncker decomposition)\n",
        "        return: weights, factors\n",
        "        '''\n",
        "        weights, factors = self.decompo_method[self.method](self.X, self.rank)\n",
        "        self.weights = Variable(weights, requires_grad=True) \n",
        "        self.factors = [Variable(f,requires_grad=True) for f in factors]\n",
        "        return None\n",
        "        \n",
        "    def train(self):\n",
        "        print(\"training start!\\n\")\n",
        "        print('-'*10)\n",
        "        print(\"Method:\",self.method)\n",
        "        print(\"rank:\", self.rank)\n",
        "        print('-'*10)\n",
        "\n",
        "        optimizer = torch.optim.Adam([self.weights]+self.factors, lr=self.lr)\n",
        "        losses = []\n",
        "        for i in range(1, ITERATION):\n",
        "            # Important: do not forget to reset the gradients\n",
        "            optimizer.zero_grad()\n",
        "\n",
        "            # Reconstruct the tensor from the decomposed form\n",
        "            X_tilde = self.reconst_method[self.method]((self.weights, self.factors)) \n",
        "\n",
        "\n",
        "            loss = torch.mean((self.X - X_tilde)**2) # MSE loss\n",
        "            losses.append(loss.item())\n",
        "\n",
        "            loss.backward(retain_graph=True)\n",
        "            optimizer.step()\n",
        "\n",
        "            if i % 1000 == 0:\n",
        "                print(\"Epoch %s | Rec. error: %.9f\" % (i, loss.item()))\n",
        "        \n",
        "        print('-'*10)\n",
        "        plt.plot(losses)\n",
        "        plt.title(f'Learning Curve of {self.method.upper()}')\n",
        "        plt.ylabel('loss over time')\n",
        "        plt.xlabel('iteration times')\n",
        "        plt.show()\n",
        "        return None"
      ],
      "execution_count": null,
      "outputs": []
    },
    {
      "cell_type": "markdown",
      "metadata": {
        "id": "kA4hC-y0Dw4p"
      },
      "source": [
        "# Main"
      ]
    },
    {
      "cell_type": "code",
      "metadata": {
        "colab": {
          "base_uri": "https://localhost:8080/",
          "height": 567
        },
        "id": "NLHOB7vxDazL",
        "outputId": "b7ee1658-1016-4b22-d2a6-9caed4dd546e"
      },
      "source": [
        "# cpd \n",
        "trainer = Trainer(X,rank=RANK,lr=LEARNING_RATE,epoch=ITERATION,method='cpd')\n",
        "trainer.train()"
      ],
      "execution_count": null,
      "outputs": [
        {
          "output_type": "stream",
          "text": [
            "training start!\n",
            "\n",
            "----------\n",
            "Method: cpd\n",
            "rank: 4\n",
            "----------\n",
            "Epoch 1000 | Rec. error: 0.577163219\n",
            "Epoch 2000 | Rec. error: 0.575161338\n",
            "Epoch 3000 | Rec. error: 0.573302448\n",
            "Epoch 4000 | Rec. error: 0.571594536\n",
            "Epoch 5000 | Rec. error: 0.570057154\n",
            "Epoch 6000 | Rec. error: 0.568770766\n",
            "Epoch 7000 | Rec. error: 0.567794085\n",
            "Epoch 8000 | Rec. error: 0.567111552\n",
            "Epoch 9000 | Rec. error: 0.566651285\n",
            "----------\n"
          ],
          "name": "stdout"
        },
        {
          "output_type": "display_data",
          "data": {
            "image/png": "[encoded data removed]",
            "text/plain": [
              "<Figure size 432x288 with 1 Axes>"
            ]
          },
          "metadata": {
            "tags": [],
            "needs_background": "light"
          }
        }
      ]
    },
    {
      "cell_type": "code",
      "metadata": {
        "colab": {
          "base_uri": "https://localhost:8080/",
          "height": 567
        },
        "id": "2Y070_aPDa1h",
        "outputId": "e03f688a-2ee2-4a43-92a3-b69d0535c4b2"
      },
      "source": [
        "# tkd\n",
        "trainer = Trainer(X,rank=RANK,lr=LEARNING_RATE,epoch=ITERATION,method='tkd')\n",
        "trainer.train()"
      ],
      "execution_count": null,
      "outputs": [
        {
          "output_type": "stream",
          "text": [
            "training start!\n",
            "\n",
            "----------\n",
            "Method: tkd\n",
            "rank: 4\n",
            "----------\n",
            "Epoch 1000 | Rec. error: 0.346822888\n",
            "Epoch 2000 | Rec. error: 0.346822858\n",
            "Epoch 3000 | Rec. error: 0.346822917\n",
            "Epoch 4000 | Rec. error: 0.346822917\n",
            "Epoch 5000 | Rec. error: 0.346822917\n",
            "Epoch 6000 | Rec. error: 0.346822917\n",
            "Epoch 7000 | Rec. error: 0.346822888\n",
            "Epoch 8000 | Rec. error: 0.346822888\n",
            "Epoch 9000 | Rec. error: 0.346822917\n",
            "----------\n"
          ],
          "name": "stdout"
        },
        {
          "output_type": "display_data",
          "data": {
            "image/png": "[encoded data removed]",
            "text/plain": [
              "<Figure size 432x288 with 1 Axes>"
            ]
          },
          "metadata": {
            "tags": [],
            "needs_background": "light"
          }
        }
      ]
    },
    {
      "cell_type": "markdown",
      "metadata": {
        "id": "dzewVNu44vqx"
      },
      "source": [
        "----\n",
        "## 밑에 코드 삭제 예정\n"
      ]
    },
    {
      "cell_type": "markdown",
      "metadata": {
        "id": "hTWXh1H54vtz"
      },
      "source": [
        ""
      ]
    },
    {
      "cell_type": "markdown",
      "metadata": {
        "id": "VqpsuPB44vxd"
      },
      "source": [
        ""
      ]
    },
    {
      "cell_type": "markdown",
      "metadata": {
        "id": "44oF8qSk7pDy"
      },
      "source": [
        "# The CP Decomposition with tensorly\n"
      ]
    },
    {
      "cell_type": "code",
      "metadata": {
        "ExecuteTime": {
          "end_time": "2020-12-06T02:49:51.418756Z",
          "start_time": "2020-12-06T02:49:51.108720Z"
        },
        "id": "s0E_rqr57pDy"
      },
      "source": [
        "import numpy as np\n",
        "import numpy as np\n",
        "import tensorly as tl\n",
        "from tensorly.decomposition import parafac\n",
        "np.random.seed(42)\n",
        "np.set_printoptions(precision=2, suppress=True)"
      ],
      "execution_count": null,
      "outputs": []
    },
    {
      "cell_type": "code",
      "metadata": {
        "ExecuteTime": {
          "end_time": "2020-12-06T02:49:51.447454Z",
          "start_time": "2020-12-06T02:49:51.444934Z"
        },
        "id": "5a6SpbAw7pDz"
      },
      "source": [
        "# set inital tensor \n",
        "tensor = np.random.random((10, 10, 10, 10))"
      ],
      "execution_count": null,
      "outputs": []
    },
    {
      "cell_type": "code",
      "metadata": {
        "ExecuteTime": {
          "end_time": "2020-12-06T02:49:51.602148Z",
          "start_time": "2020-12-06T02:49:51.531972Z"
        },
        "id": "_NRcwF2w7pDz",
        "outputId": "748355cc-b798-4fe3-eaac-c0268e9a27ea"
      },
      "source": [
        "# cp-decompo.\n",
        "weights, factors = parafac(tensor, rank=2)\n",
        "[f.shape for f in factors]"
      ],
      "execution_count": null,
      "outputs": [
        {
          "output_type": "execute_result",
          "data": {
            "text/plain": [
              "[(10, 2), (10, 2), (10, 2), (10, 2)]"
            ]
          },
          "metadata": {
            "tags": []
          },
          "execution_count": 3
        }
      ]
    },
    {
      "cell_type": "code",
      "metadata": {
        "ExecuteTime": {
          "end_time": "2020-12-06T02:49:51.736017Z",
          "start_time": "2020-12-06T02:49:51.732094Z"
        },
        "scrolled": true,
        "id": "s-DZ8YRE7pD0",
        "outputId": "88fc58a7-c415-49b0-c3b7-fe04cc27bdab"
      },
      "source": [
        "print('Compression ratio:', 1-((10*2)*4) / (10**4))"
      ],
      "execution_count": null,
      "outputs": [
        {
          "output_type": "stream",
          "text": [
            "Compression ratio: 0.992\n"
          ],
          "name": "stdout"
        }
      ]
    },
    {
      "cell_type": "code",
      "metadata": {
        "ExecuteTime": {
          "end_time": "2020-12-06T02:49:52.199075Z",
          "start_time": "2020-12-06T02:49:52.193691Z"
        },
        "id": "dr4Bd7c07pD0"
      },
      "source": [
        "full_tensor = tl.kruskal_to_tensor((weights, factors))"
      ],
      "execution_count": null,
      "outputs": []
    },
    {
      "cell_type": "code",
      "metadata": {
        "ExecuteTime": {
          "end_time": "2020-12-06T02:49:52.949585Z",
          "start_time": "2020-12-06T02:49:52.547536Z"
        },
        "id": "OIKpyaOI7pD0",
        "outputId": "de92526c-6aea-4bc8-c9a2-089f849b1579"
      },
      "source": [
        "from sklearn.metrics import mean_absolute_error\n",
        "print('error:', mean_absolute_error(tensor.reshape(-1),full_tensor.reshape(-1)))"
      ],
      "execution_count": null,
      "outputs": [
        {
          "output_type": "stream",
          "text": [
            "error: 0.24713019254076427\n"
          ],
          "name": "stdout"
        }
      ]
    },
    {
      "cell_type": "markdown",
      "metadata": {
        "id": "dGkYJYUX7pD0"
      },
      "source": [
        "# The CP Decomposition"
      ]
    },
    {
      "cell_type": "code",
      "metadata": {
        "ExecuteTime": {
          "end_time": "2020-12-06T02:49:54.362253Z",
          "start_time": "2020-12-06T02:49:53.778199Z"
        },
        "id": "ytWaprw87pD0"
      },
      "source": [
        "import numpy as np\n",
        "import torch\n",
        "from torch.autograd import Variable\n",
        "import tensorly as tl\n",
        "from tensorly.tucker_tensor import tucker_to_tensor\n",
        "from tensorly.random import check_random_state\n",
        "# Using mxnet backend."
      ],
      "execution_count": null,
      "outputs": []
    },
    {
      "cell_type": "code",
      "metadata": {
        "ExecuteTime": {
          "end_time": "2020-12-06T02:49:54.505087Z",
          "start_time": "2020-12-06T02:49:54.498812Z"
        },
        "id": "wNPy6fcA7pD0"
      },
      "source": [
        "# switch to the PyTorch backend\n",
        "tl.set_backend('pytorch')"
      ],
      "execution_count": null,
      "outputs": []
    },
    {
      "cell_type": "code",
      "metadata": {
        "ExecuteTime": {
          "end_time": "2020-12-06T02:49:54.648802Z",
          "start_time": "2020-12-06T02:49:54.646402Z"
        },
        "id": "UAh7qg1E7pD0"
      },
      "source": [
        "# set initial value \n",
        "random_state = 42\n",
        "rng = check_random_state(random_state)"
      ],
      "execution_count": null,
      "outputs": []
    },
    {
      "cell_type": "code",
      "metadata": {
        "ExecuteTime": {
          "end_time": "2020-12-06T02:49:54.818710Z",
          "start_time": "2020-12-06T02:49:54.815514Z"
        },
        "id": "gm_TBc6-7pD0"
      },
      "source": [
        "# Define a initial tensor\n",
        "shape = [5, 5, 5]\n",
        "tensor = Variable(tl.tensor(rng.random_sample(shape)), requires_grad=True)\n",
        "X = tensor"
      ],
      "execution_count": null,
      "outputs": []
    },
    {
      "cell_type": "code",
      "metadata": {
        "ExecuteTime": {
          "end_time": "2020-12-06T02:49:55.022928Z",
          "start_time": "2020-12-06T02:49:55.016866Z"
        },
        "id": "mW7yv2yU7pD0"
      },
      "source": [
        "ranks = [5, 5, 5]\n",
        "core = Variable(tl.tensor(rng.random_sample(ranks)), requires_grad=True)\n",
        "factors = [Variable(tl.tensor(rng.random_sample((tensor.shape[i], ranks[i]))),\n",
        "                    requires_grad=True) for i in range(tl.ndim(tensor))]"
      ],
      "execution_count": null,
      "outputs": []
    },
    {
      "cell_type": "code",
      "metadata": {
        "ExecuteTime": {
          "end_time": "2020-12-06T02:49:55.579655Z",
          "start_time": "2020-12-06T02:49:55.576211Z"
        },
        "scrolled": true,
        "id": "kX5bflnV7pD0"
      },
      "source": [
        "# n_iter = 10\n",
        "# lr = 0.00005\n",
        "# penalty = 0.1\n",
        "\n",
        "# optimizer = torch.optim.Adam([core]+factors, lr=lr)\n",
        "\n",
        "# for i in range(1, n_iter):\n",
        "#     # Important: do not forget to reset the gradients\n",
        "#     optimizer.zero_grad()\n",
        "\n",
        "#     # Reconstruct the tensor from the decomposed form\n",
        "#     rec = tucker_to_tensor(core, factors)\n",
        "\n",
        "#     # squared l2 loss\n",
        "#     loss = (rec - tensor).pow(2).sum()\n",
        "\n",
        "#     # squared l2 penalty on the factors of the decomposition\n",
        "#     for f in factors:\n",
        "#         loss = loss + penalty * f.pow(2).sum()\n",
        "\n",
        "#     loss.backward()\n",
        "#     optimizer.step()\n",
        "\n",
        "#     if i % 1000 == 0:\n",
        "#         rec_error = tl.norm(rec.data - tensor.data, 2)/tl.norm(tensor.data, 2)\n",
        "#         print(\"Epoch %s,. Rec. error: %s\" % (i, rec_error))"
      ],
      "execution_count": null,
      "outputs": []
    },
    {
      "cell_type": "code",
      "metadata": {
        "ExecuteTime": {
          "end_time": "2020-12-06T02:49:56.237627Z",
          "start_time": "2020-12-06T02:49:56.228922Z"
        },
        "id": "_zbd6lQA7pD0"
      },
      "source": [
        "def construct(A,B,C):\n",
        "    \"\"\"\n",
        "    Given Matrices A, B, C construct 3D Tensor \n",
        "        A : i, r\n",
        "        B: j, r\n",
        "        C : k, r\n",
        "    \"\"\"\n",
        "    X_tilde = 0\n",
        "    r = A.shape[1]\n",
        "    for i in range(r):\n",
        "        X_tilde += torch.ger(A[:,i], B[:,i]).unsqueeze(2)*C[:,i].unsqueeze(0).unsqueeze(0)\n",
        "    return X_tilde\n",
        "\n",
        "def CP_decomposition(factors, max_iter=10000, lr=0.1):\n",
        "    \"\"\"\n",
        "    factors=[A,B,C]\n",
        "    Minimize Frobenius Norm |X-X_tilde|\n",
        "    Update decomposition factors\n",
        "    \"\"\"\n",
        "    opt = torch.optim.Adam(factors, lr=lr)\n",
        "    losses = []\n",
        "    for i in range(max_iter):    \n",
        "        X_tilde = construct(*factors)\n",
        "\n",
        "        opt.zero_grad()\n",
        "        loss = torch.mean((X - X_tilde)**2)\n",
        "        #print(loss)\n",
        "        losses.append(loss.item())\n",
        "\n",
        "        loss.backward(retain_graph=True)\n",
        "        opt.step()\n",
        "    return losses"
      ],
      "execution_count": null,
      "outputs": []
    },
    {
      "cell_type": "code",
      "metadata": {
        "ExecuteTime": {
          "end_time": "2020-12-06T02:50:07.741405Z",
          "start_time": "2020-12-06T02:49:57.278557Z"
        },
        "id": "m4I_Dlf17pD0"
      },
      "source": [
        "losses = CP_decomposition(factors, max_iter=10000, lr=0.1)"
      ],
      "execution_count": null,
      "outputs": []
    },
    {
      "cell_type": "code",
      "metadata": {
        "ExecuteTime": {
          "end_time": "2020-12-06T02:50:08.447208Z",
          "start_time": "2020-12-06T02:50:07.890192Z"
        },
        "id": "woMcNoaF7pD0",
        "outputId": "4214119e-dba2-4bfa-c5c8-97f1510e462e"
      },
      "source": [
        "import matplotlib.pyplot as plt\n",
        "print('Learning curve for rank 5 ')\n",
        "plt.plot(losses)\n",
        "plt.ylabel('loss over time')\n",
        "plt.xlabel('iteration times')\n",
        "plt.show()"
      ],
      "execution_count": null,
      "outputs": [
        {
          "output_type": "stream",
          "text": [
            "Learning curve for rank 5 \n"
          ],
          "name": "stdout"
        },
        {
          "output_type": "display_data",
          "data": {
            "image/png": "[encoded data removed]",
            "text/plain": [
              "<Figure size 432x288 with 1 Axes>"
            ]
          },
          "metadata": {
            "tags": [],
            "needs_background": "light"
          }
        }
      ]
    }
  ]
}